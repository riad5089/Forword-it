{
 "cells": [
  {
   "cell_type": "code",
   "execution_count": 1,
   "id": "d2d44131",
   "metadata": {},
   "outputs": [],
   "source": [
    "student = {\n",
    "    \"23rhfiudf4r\":{\n",
    "        \"name\":\"Fahim\",\n",
    "        \"dept\":\"CSE\"\n",
    "    },\n",
    "    \"rfiue21dked\":{\n",
    "        \"name\":\"Ripon\",\n",
    "        \"dept\":\"BBA\"\n",
    "    }\n",
    "}"
   ]
  },
  {
   "cell_type": "code",
   "execution_count": 2,
   "id": "4d7290d4",
   "metadata": {},
   "outputs": [
    {
     "data": {
      "text/plain": [
       "{'23rhfiudf4r': {'name': 'Fahim', 'dept': 'CSE'},\n",
       " 'rfiue21dked': {'name': 'Ripon', 'dept': 'BBA'}}"
      ]
     },
     "execution_count": 2,
     "metadata": {},
     "output_type": "execute_result"
    }
   ],
   "source": [
    "student"
   ]
  },
  {
   "cell_type": "code",
   "execution_count": 3,
   "id": "b9b0501d",
   "metadata": {},
   "outputs": [
    {
     "data": {
      "text/plain": [
       "{'name': 'Fahim', 'dept': 'CSE'}"
      ]
     },
     "execution_count": 3,
     "metadata": {},
     "output_type": "execute_result"
    }
   ],
   "source": [
    "student['23rhfiudf4r']"
   ]
  },
  {
   "cell_type": "code",
   "execution_count": 4,
   "id": "2351a0d3",
   "metadata": {},
   "outputs": [],
   "source": [
    "# for i, j in student.items():\n",
    "# # print (i)\n",
    "#     for key\n",
    "# SyntaxError: invalid syntax"
   ]
  },
  {
   "cell_type": "markdown",
   "id": "2e4d4396",
   "metadata": {},
   "source": [
    "# Functions"
   ]
  },
  {
   "cell_type": "code",
   "execution_count": null,
   "id": "686fa771",
   "metadata": {},
   "outputs": [],
   "source": []
  },
  {
   "cell_type": "code",
   "execution_count": 5,
   "id": "f41ada3b",
   "metadata": {},
   "outputs": [],
   "source": [
    "# uporer gula class e "
   ]
  },
  {
   "cell_type": "code",
   "execution_count": 6,
   "id": "05634e5d",
   "metadata": {},
   "outputs": [],
   "source": [
    "# nicher gula class dheke note"
   ]
  },
  {
   "cell_type": "markdown",
   "id": "fd785cc2",
   "metadata": {},
   "source": [
    "# Set"
   ]
  },
  {
   "cell_type": "code",
   "execution_count": 7,
   "id": "09437199",
   "metadata": {},
   "outputs": [],
   "source": [
    "# immutable (onekta tuple er moto)\n",
    "            #( difference is , can add new value but can't change given value)"
   ]
  },
  {
   "cell_type": "code",
   "execution_count": 8,
   "id": "d597c33d",
   "metadata": {},
   "outputs": [],
   "source": [
    "s = {}"
   ]
  },
  {
   "cell_type": "code",
   "execution_count": 9,
   "id": "7ea20847",
   "metadata": {},
   "outputs": [
    {
     "data": {
      "text/plain": [
       "dict"
      ]
     },
     "execution_count": 9,
     "metadata": {},
     "output_type": "execute_result"
    }
   ],
   "source": [
    "type(s)"
   ]
  },
  {
   "cell_type": "code",
   "execution_count": 10,
   "id": "59b4bbb8",
   "metadata": {},
   "outputs": [],
   "source": [
    "s = {1,2,3,4,5,6}"
   ]
  },
  {
   "cell_type": "code",
   "execution_count": 11,
   "id": "484a0c5b",
   "metadata": {},
   "outputs": [
    {
     "data": {
      "text/plain": [
       "set"
      ]
     },
     "execution_count": 11,
     "metadata": {},
     "output_type": "execute_result"
    }
   ],
   "source": [
    "type(s)"
   ]
  },
  {
   "cell_type": "code",
   "execution_count": 12,
   "id": "1ae893c4",
   "metadata": {},
   "outputs": [],
   "source": [
    "s = set() #empty set"
   ]
  },
  {
   "cell_type": "code",
   "execution_count": 13,
   "id": "86be765e",
   "metadata": {},
   "outputs": [
    {
     "data": {
      "text/plain": [
       "set()"
      ]
     },
     "execution_count": 13,
     "metadata": {},
     "output_type": "execute_result"
    }
   ],
   "source": [
    "s"
   ]
  },
  {
   "cell_type": "code",
   "execution_count": 14,
   "id": "d62aec4e",
   "metadata": {},
   "outputs": [
    {
     "data": {
      "text/plain": [
       "set"
      ]
     },
     "execution_count": 14,
     "metadata": {},
     "output_type": "execute_result"
    }
   ],
   "source": [
    "type(s)"
   ]
  },
  {
   "cell_type": "code",
   "execution_count": 15,
   "id": "11d423a5",
   "metadata": {},
   "outputs": [],
   "source": [
    "s = {2, 34, 31, 1, 24, 7, 5, 5, 1, 8, 2, 6, 31}"
   ]
  },
  {
   "cell_type": "code",
   "execution_count": 16,
   "id": "1505a093",
   "metadata": {},
   "outputs": [
    {
     "data": {
      "text/plain": [
       "{1, 2, 5, 6, 7, 8, 24, 31, 34}"
      ]
     },
     "execution_count": 16,
     "metadata": {},
     "output_type": "execute_result"
    }
   ],
   "source": [
    "s"
   ]
  },
  {
   "cell_type": "code",
   "execution_count": 17,
   "id": "b25a0daa",
   "metadata": {},
   "outputs": [],
   "source": [
    "# s[1]   doesn't support index\n",
    "# TypeError: 'set' object is not subscriptable"
   ]
  },
  {
   "cell_type": "code",
   "execution_count": 18,
   "id": "562a4eb3",
   "metadata": {},
   "outputs": [],
   "source": [
    "# Built in "
   ]
  },
  {
   "cell_type": "code",
   "execution_count": 19,
   "id": "dc0fde48",
   "metadata": {},
   "outputs": [],
   "source": [
    "s.add(45)"
   ]
  },
  {
   "cell_type": "code",
   "execution_count": 20,
   "id": "ff63bced",
   "metadata": {},
   "outputs": [
    {
     "data": {
      "text/plain": [
       "{1, 2, 5, 6, 7, 8, 24, 31, 34, 45}"
      ]
     },
     "execution_count": 20,
     "metadata": {},
     "output_type": "execute_result"
    }
   ],
   "source": [
    "s"
   ]
  },
  {
   "cell_type": "code",
   "execution_count": 21,
   "id": "934b805e",
   "metadata": {},
   "outputs": [],
   "source": [
    "s.add(26)"
   ]
  },
  {
   "cell_type": "code",
   "execution_count": 22,
   "id": "069679d6",
   "metadata": {},
   "outputs": [
    {
     "data": {
      "text/plain": [
       "{1, 2, 5, 6, 7, 8, 24, 26, 31, 34, 45}"
      ]
     },
     "execution_count": 22,
     "metadata": {},
     "output_type": "execute_result"
    }
   ],
   "source": [
    "s"
   ]
  },
  {
   "cell_type": "code",
   "execution_count": 23,
   "id": "76d3d9fa",
   "metadata": {},
   "outputs": [],
   "source": [
    "sc = s.copy()"
   ]
  },
  {
   "cell_type": "code",
   "execution_count": 24,
   "id": "f77c14a5",
   "metadata": {},
   "outputs": [
    {
     "data": {
      "text/plain": [
       "{1, 2, 5, 6, 7, 8, 24, 26, 31, 34, 45}"
      ]
     },
     "execution_count": 24,
     "metadata": {},
     "output_type": "execute_result"
    }
   ],
   "source": [
    "sc"
   ]
  },
  {
   "cell_type": "code",
   "execution_count": 25,
   "id": "542f3230",
   "metadata": {},
   "outputs": [],
   "source": [
    "sc.clear()"
   ]
  },
  {
   "cell_type": "code",
   "execution_count": 26,
   "id": "bda28b7a",
   "metadata": {},
   "outputs": [
    {
     "data": {
      "text/plain": [
       "set()"
      ]
     },
     "execution_count": 26,
     "metadata": {},
     "output_type": "execute_result"
    }
   ],
   "source": [
    "sc"
   ]
  },
  {
   "cell_type": "code",
   "execution_count": 27,
   "id": "ea76d6db",
   "metadata": {},
   "outputs": [],
   "source": [
    "s2 = {1, 2, 5, 6, 7}\n",
    "s3 = {33, 56, 78, 34, 45}\n",
    "s4 = {9, 12, 23, 10, 20}"
   ]
  },
  {
   "cell_type": "code",
   "execution_count": 28,
   "id": "489863aa",
   "metadata": {},
   "outputs": [
    {
     "data": {
      "text/plain": [
       "{8, 24, 26, 31, 34, 45}"
      ]
     },
     "execution_count": 28,
     "metadata": {},
     "output_type": "execute_result"
    }
   ],
   "source": [
    "s.difference(s2)"
   ]
  },
  {
   "cell_type": "code",
   "execution_count": 29,
   "id": "1f289ca5",
   "metadata": {},
   "outputs": [
    {
     "data": {
      "text/plain": [
       "{1, 2, 5, 6, 7, 8, 24, 26, 31}"
      ]
     },
     "execution_count": 29,
     "metadata": {},
     "output_type": "execute_result"
    }
   ],
   "source": [
    "s.difference(s3)"
   ]
  },
  {
   "cell_type": "code",
   "execution_count": 30,
   "id": "213099ce",
   "metadata": {},
   "outputs": [
    {
     "data": {
      "text/plain": [
       "{1, 2, 5, 6, 7, 8, 24, 26, 31, 34, 45}"
      ]
     },
     "execution_count": 30,
     "metadata": {},
     "output_type": "execute_result"
    }
   ],
   "source": [
    "s.difference(s4)"
   ]
  },
  {
   "cell_type": "code",
   "execution_count": 31,
   "id": "f0352e6e",
   "metadata": {},
   "outputs": [],
   "source": [
    "s.difference_update(s2)"
   ]
  },
  {
   "cell_type": "code",
   "execution_count": 32,
   "id": "7e60413d",
   "metadata": {},
   "outputs": [
    {
     "data": {
      "text/plain": [
       "{8, 24, 26, 31, 34, 45}"
      ]
     },
     "execution_count": 32,
     "metadata": {},
     "output_type": "execute_result"
    }
   ],
   "source": [
    "s"
   ]
  },
  {
   "cell_type": "code",
   "execution_count": 33,
   "id": "135f5d50",
   "metadata": {},
   "outputs": [],
   "source": [
    "s3.difference_update(s4)"
   ]
  },
  {
   "cell_type": "code",
   "execution_count": 34,
   "id": "0e471feb",
   "metadata": {},
   "outputs": [
    {
     "data": {
      "text/plain": [
       "{33, 34, 45, 56, 78}"
      ]
     },
     "execution_count": 34,
     "metadata": {},
     "output_type": "execute_result"
    }
   ],
   "source": [
    "s3"
   ]
  },
  {
   "cell_type": "code",
   "execution_count": 35,
   "id": "15949907",
   "metadata": {},
   "outputs": [],
   "source": [
    "s.discard(s4)"
   ]
  },
  {
   "cell_type": "code",
   "execution_count": 36,
   "id": "727f33fb",
   "metadata": {},
   "outputs": [
    {
     "data": {
      "text/plain": [
       "{8, 24, 26, 31, 34, 45}"
      ]
     },
     "execution_count": 36,
     "metadata": {},
     "output_type": "execute_result"
    }
   ],
   "source": [
    "s"
   ]
  },
  {
   "cell_type": "code",
   "execution_count": 37,
   "id": "48684ced",
   "metadata": {},
   "outputs": [],
   "source": [
    "s.discard(s3)"
   ]
  },
  {
   "cell_type": "code",
   "execution_count": 38,
   "id": "1258db75",
   "metadata": {},
   "outputs": [
    {
     "data": {
      "text/plain": [
       "{8, 24, 26, 31, 34, 45}"
      ]
     },
     "execution_count": 38,
     "metadata": {},
     "output_type": "execute_result"
    }
   ],
   "source": [
    "s"
   ]
  },
  {
   "cell_type": "code",
   "execution_count": 39,
   "id": "898b8f61",
   "metadata": {},
   "outputs": [],
   "source": [
    "a = {1, 2, 3, 4, 5, 6, 7, 8, 9, 10, 7, 6}\n",
    "b = {1, 2, 3, 4, 5, 6}\n",
    "c = {7, 9, 11, 15, 19}\n",
    "d = {20, 30, 40, 50}"
   ]
  },
  {
   "cell_type": "code",
   "execution_count": 40,
   "id": "1c48ae1d",
   "metadata": {},
   "outputs": [],
   "source": [
    "p = {12, 23, 34, 56, 78, 90}"
   ]
  },
  {
   "cell_type": "code",
   "execution_count": 41,
   "id": "47c96239",
   "metadata": {},
   "outputs": [],
   "source": [
    "q = {34, 56, 89, 76, 54}"
   ]
  },
  {
   "cell_type": "code",
   "execution_count": 42,
   "id": "3a09d605",
   "metadata": {},
   "outputs": [],
   "source": [
    "p.discard(q)"
   ]
  },
  {
   "cell_type": "code",
   "execution_count": 43,
   "id": "cab109e7",
   "metadata": {},
   "outputs": [
    {
     "data": {
      "text/plain": [
       "{12, 23, 34, 56, 78, 90}"
      ]
     },
     "execution_count": 43,
     "metadata": {},
     "output_type": "execute_result"
    }
   ],
   "source": [
    "p"
   ]
  },
  {
   "cell_type": "code",
   "execution_count": 44,
   "id": "ecb529aa",
   "metadata": {},
   "outputs": [],
   "source": [
    "q.discard(p)"
   ]
  },
  {
   "cell_type": "code",
   "execution_count": 45,
   "id": "f69e891e",
   "metadata": {},
   "outputs": [
    {
     "data": {
      "text/plain": [
       "{34, 54, 56, 76, 89}"
      ]
     },
     "execution_count": 45,
     "metadata": {},
     "output_type": "execute_result"
    }
   ],
   "source": [
    "q"
   ]
  },
  {
   "cell_type": "code",
   "execution_count": 46,
   "id": "ecece2dc",
   "metadata": {},
   "outputs": [
    {
     "data": {
      "text/plain": [
       "{1, 2, 3, 4, 5, 6}"
      ]
     },
     "execution_count": 46,
     "metadata": {},
     "output_type": "execute_result"
    }
   ],
   "source": [
    "a.intersection(b)"
   ]
  },
  {
   "cell_type": "code",
   "execution_count": 47,
   "id": "8a96df43",
   "metadata": {},
   "outputs": [],
   "source": [
    "a.intersection_update(b)"
   ]
  },
  {
   "cell_type": "code",
   "execution_count": 48,
   "id": "8c33d2ab",
   "metadata": {},
   "outputs": [
    {
     "data": {
      "text/plain": [
       "{1, 2, 3, 4, 5, 6}"
      ]
     },
     "execution_count": 48,
     "metadata": {},
     "output_type": "execute_result"
    }
   ],
   "source": [
    "a"
   ]
  },
  {
   "cell_type": "code",
   "execution_count": 49,
   "id": "ef11fa97",
   "metadata": {},
   "outputs": [
    {
     "data": {
      "text/plain": [
       "{1, 2, 3, 4, 5, 6}"
      ]
     },
     "execution_count": 49,
     "metadata": {},
     "output_type": "execute_result"
    }
   ],
   "source": [
    "a"
   ]
  },
  {
   "cell_type": "code",
   "execution_count": 50,
   "id": "5cf8d257",
   "metadata": {},
   "outputs": [
    {
     "data": {
      "text/plain": [
       "set()"
      ]
     },
     "execution_count": 50,
     "metadata": {},
     "output_type": "execute_result"
    }
   ],
   "source": [
    "a.intersection(c)"
   ]
  },
  {
   "cell_type": "code",
   "execution_count": 51,
   "id": "f1bd39bd",
   "metadata": {},
   "outputs": [],
   "source": [
    "a = {1, 2, 3, 4, 5, 6, 7, 8, 9, 10, 7, 6}"
   ]
  },
  {
   "cell_type": "code",
   "execution_count": 52,
   "id": "aebec13c",
   "metadata": {},
   "outputs": [
    {
     "data": {
      "text/plain": [
       "{1, 2, 3, 4, 5, 6, 7, 8, 9, 10}"
      ]
     },
     "execution_count": 52,
     "metadata": {},
     "output_type": "execute_result"
    }
   ],
   "source": [
    "a"
   ]
  },
  {
   "cell_type": "code",
   "execution_count": 53,
   "id": "4420586c",
   "metadata": {},
   "outputs": [
    {
     "data": {
      "text/plain": [
       "False"
      ]
     },
     "execution_count": 53,
     "metadata": {},
     "output_type": "execute_result"
    }
   ],
   "source": [
    "a.isdisjoint(b)"
   ]
  },
  {
   "cell_type": "code",
   "execution_count": 54,
   "id": "785ebb5a",
   "metadata": {},
   "outputs": [
    {
     "data": {
      "text/plain": [
       "False"
      ]
     },
     "execution_count": 54,
     "metadata": {},
     "output_type": "execute_result"
    }
   ],
   "source": [
    "a.isdisjoint(c)"
   ]
  },
  {
   "cell_type": "code",
   "execution_count": 55,
   "id": "02fc7215",
   "metadata": {},
   "outputs": [
    {
     "data": {
      "text/plain": [
       "True"
      ]
     },
     "execution_count": 55,
     "metadata": {},
     "output_type": "execute_result"
    }
   ],
   "source": [
    "a.isdisjoint(d)"
   ]
  },
  {
   "cell_type": "code",
   "execution_count": 56,
   "id": "657b087b",
   "metadata": {},
   "outputs": [
    {
     "data": {
      "text/plain": [
       "False"
      ]
     },
     "execution_count": 56,
     "metadata": {},
     "output_type": "execute_result"
    }
   ],
   "source": [
    "a.issubset(b)"
   ]
  },
  {
   "cell_type": "code",
   "execution_count": 57,
   "id": "84087b42",
   "metadata": {},
   "outputs": [
    {
     "data": {
      "text/plain": [
       "False"
      ]
     },
     "execution_count": 57,
     "metadata": {},
     "output_type": "execute_result"
    }
   ],
   "source": [
    "c.issubset(a)"
   ]
  },
  {
   "cell_type": "code",
   "execution_count": 58,
   "id": "f4c03519",
   "metadata": {},
   "outputs": [
    {
     "data": {
      "text/plain": [
       "True"
      ]
     },
     "execution_count": 58,
     "metadata": {},
     "output_type": "execute_result"
    }
   ],
   "source": [
    "b.issubset(a)"
   ]
  },
  {
   "cell_type": "code",
   "execution_count": 59,
   "id": "b7ba09d7",
   "metadata": {},
   "outputs": [
    {
     "data": {
      "text/plain": [
       "False"
      ]
     },
     "execution_count": 59,
     "metadata": {},
     "output_type": "execute_result"
    }
   ],
   "source": [
    "d.issuperset(c)"
   ]
  },
  {
   "cell_type": "code",
   "execution_count": 60,
   "id": "ddff132a",
   "metadata": {},
   "outputs": [
    {
     "data": {
      "text/plain": [
       "False"
      ]
     },
     "execution_count": 60,
     "metadata": {},
     "output_type": "execute_result"
    }
   ],
   "source": [
    "a.issuperset(d)"
   ]
  },
  {
   "cell_type": "code",
   "execution_count": 61,
   "id": "16dfd806",
   "metadata": {},
   "outputs": [
    {
     "data": {
      "text/plain": [
       "True"
      ]
     },
     "execution_count": 61,
     "metadata": {},
     "output_type": "execute_result"
    }
   ],
   "source": [
    "a.issuperset(b)"
   ]
  },
  {
   "cell_type": "code",
   "execution_count": 62,
   "id": "a11023c9",
   "metadata": {},
   "outputs": [
    {
     "data": {
      "text/plain": [
       "1"
      ]
     },
     "execution_count": 62,
     "metadata": {},
     "output_type": "execute_result"
    }
   ],
   "source": [
    "b.pop()"
   ]
  },
  {
   "cell_type": "code",
   "execution_count": 63,
   "id": "dfe9c498",
   "metadata": {},
   "outputs": [
    {
     "data": {
      "text/plain": [
       "{2, 3, 4, 5, 6}"
      ]
     },
     "execution_count": 63,
     "metadata": {},
     "output_type": "execute_result"
    }
   ],
   "source": [
    "b"
   ]
  },
  {
   "cell_type": "code",
   "execution_count": 64,
   "id": "17ee6ba5",
   "metadata": {},
   "outputs": [],
   "source": [
    "# a.pop(9)\n",
    "# TypeError: set.pop() takes no arguments (1 given)"
   ]
  },
  {
   "cell_type": "code",
   "execution_count": 65,
   "id": "9411e2cc",
   "metadata": {},
   "outputs": [
    {
     "data": {
      "text/plain": [
       "1"
      ]
     },
     "execution_count": 65,
     "metadata": {},
     "output_type": "execute_result"
    }
   ],
   "source": [
    "a.pop() # no numbers can be given in ()"
   ]
  },
  {
   "cell_type": "code",
   "execution_count": 66,
   "id": "8e02c50b",
   "metadata": {},
   "outputs": [
    {
     "data": {
      "text/plain": [
       "{2, 3, 4, 5, 6, 7, 8, 9, 10}"
      ]
     },
     "execution_count": 66,
     "metadata": {},
     "output_type": "execute_result"
    }
   ],
   "source": [
    "a"
   ]
  },
  {
   "cell_type": "code",
   "execution_count": 67,
   "id": "5123cc24",
   "metadata": {},
   "outputs": [],
   "source": [
    "# a.remove()\n",
    "# TypeError: set.remove() takes exactly one argument (0 given)"
   ]
  },
  {
   "cell_type": "code",
   "execution_count": 68,
   "id": "bf5274f6",
   "metadata": {},
   "outputs": [],
   "source": [
    "e = {21, 32, 43 ,57, 70}"
   ]
  },
  {
   "cell_type": "code",
   "execution_count": 69,
   "id": "3d90eaf6",
   "metadata": {},
   "outputs": [],
   "source": [
    "e.remove(21)"
   ]
  },
  {
   "cell_type": "code",
   "execution_count": 70,
   "id": "546d8dc7",
   "metadata": {},
   "outputs": [
    {
     "data": {
      "text/plain": [
       "{32, 43, 57, 70}"
      ]
     },
     "execution_count": 70,
     "metadata": {},
     "output_type": "execute_result"
    }
   ],
   "source": [
    "e"
   ]
  },
  {
   "cell_type": "code",
   "execution_count": 71,
   "id": "811ac3c8",
   "metadata": {},
   "outputs": [],
   "source": [
    "a.remove(10)"
   ]
  },
  {
   "cell_type": "code",
   "execution_count": 72,
   "id": "51175249",
   "metadata": {},
   "outputs": [
    {
     "data": {
      "text/plain": [
       "{2, 3, 4, 5, 6, 7, 8, 9}"
      ]
     },
     "execution_count": 72,
     "metadata": {},
     "output_type": "execute_result"
    }
   ],
   "source": [
    "a"
   ]
  },
  {
   "cell_type": "code",
   "execution_count": 73,
   "id": "92132113",
   "metadata": {},
   "outputs": [
    {
     "data": {
      "text/plain": [
       "{7, 8, 9}"
      ]
     },
     "execution_count": 73,
     "metadata": {},
     "output_type": "execute_result"
    }
   ],
   "source": [
    "a.symmetric_difference(b)"
   ]
  },
  {
   "cell_type": "code",
   "execution_count": 74,
   "id": "ca1b847c",
   "metadata": {},
   "outputs": [
    {
     "data": {
      "text/plain": [
       "{2, 3, 4, 5, 6, 8, 11, 15, 19}"
      ]
     },
     "execution_count": 74,
     "metadata": {},
     "output_type": "execute_result"
    }
   ],
   "source": [
    "c.symmetric_difference(a)"
   ]
  },
  {
   "cell_type": "code",
   "execution_count": 75,
   "id": "dba38ed8",
   "metadata": {},
   "outputs": [
    {
     "data": {
      "text/plain": [
       "{7, 9, 11, 15, 19, 20, 30, 40, 50}"
      ]
     },
     "execution_count": 75,
     "metadata": {},
     "output_type": "execute_result"
    }
   ],
   "source": [
    "d.symmetric_difference(c)"
   ]
  },
  {
   "cell_type": "code",
   "execution_count": 76,
   "id": "3444f836",
   "metadata": {},
   "outputs": [],
   "source": [
    "e.symmetric_difference_update(c)"
   ]
  },
  {
   "cell_type": "code",
   "execution_count": 77,
   "id": "a9ac14aa",
   "metadata": {},
   "outputs": [
    {
     "data": {
      "text/plain": [
       "{7, 9, 11, 15, 19, 32, 43, 57, 70}"
      ]
     },
     "execution_count": 77,
     "metadata": {},
     "output_type": "execute_result"
    }
   ],
   "source": [
    "e"
   ]
  },
  {
   "cell_type": "code",
   "execution_count": 78,
   "id": "c7f46946",
   "metadata": {},
   "outputs": [
    {
     "data": {
      "text/plain": [
       "({2, 3, 4, 5, 6, 7, 8, 9},\n",
       " {2, 3, 4, 5, 6},\n",
       " {7, 9, 11, 15, 19},\n",
       " {20, 30, 40, 50},\n",
       " {7, 9, 11, 15, 19, 32, 43, 57, 70})"
      ]
     },
     "execution_count": 78,
     "metadata": {},
     "output_type": "execute_result"
    }
   ],
   "source": [
    "a, b, c , d, e"
   ]
  },
  {
   "cell_type": "code",
   "execution_count": 79,
   "id": "3f80eae2",
   "metadata": {},
   "outputs": [
    {
     "data": {
      "text/plain": [
       "{2, 3, 4, 5, 6, 7, 8, 9, 11, 15, 19}"
      ]
     },
     "execution_count": 79,
     "metadata": {},
     "output_type": "execute_result"
    }
   ],
   "source": [
    "a.union(c)"
   ]
  },
  {
   "cell_type": "code",
   "execution_count": 80,
   "id": "916f939d",
   "metadata": {},
   "outputs": [],
   "source": [
    "d.update(b)"
   ]
  },
  {
   "cell_type": "code",
   "execution_count": 81,
   "id": "3020c7af",
   "metadata": {},
   "outputs": [
    {
     "data": {
      "text/plain": [
       "{2, 3, 4, 5, 6, 20, 30, 40, 50}"
      ]
     },
     "execution_count": 81,
     "metadata": {},
     "output_type": "execute_result"
    }
   ],
   "source": [
    "d"
   ]
  },
  {
   "cell_type": "code",
   "execution_count": 82,
   "id": "32f4baab",
   "metadata": {},
   "outputs": [],
   "source": [
    "a.update(b)"
   ]
  },
  {
   "cell_type": "code",
   "execution_count": 83,
   "id": "215dda38",
   "metadata": {},
   "outputs": [
    {
     "data": {
      "text/plain": [
       "{2, 3, 4, 5, 6, 7, 8, 9}"
      ]
     },
     "execution_count": 83,
     "metadata": {},
     "output_type": "execute_result"
    }
   ],
   "source": [
    "a"
   ]
  },
  {
   "cell_type": "code",
   "execution_count": 84,
   "id": "431a23dc",
   "metadata": {},
   "outputs": [],
   "source": [
    "a.update(c)"
   ]
  },
  {
   "cell_type": "code",
   "execution_count": 85,
   "id": "73521773",
   "metadata": {},
   "outputs": [
    {
     "data": {
      "text/plain": [
       "{2, 3, 4, 5, 6, 7, 8, 9, 11, 15, 19}"
      ]
     },
     "execution_count": 85,
     "metadata": {},
     "output_type": "execute_result"
    }
   ],
   "source": [
    "a"
   ]
  },
  {
   "cell_type": "markdown",
   "id": "2bce5e2d",
   "metadata": {},
   "source": [
    "# Dictionary"
   ]
  },
  {
   "cell_type": "code",
   "execution_count": 86,
   "id": "f01722e0",
   "metadata": {},
   "outputs": [],
   "source": [
    "# key value pair"
   ]
  },
  {
   "cell_type": "code",
   "execution_count": 87,
   "id": "49e30a0f",
   "metadata": {},
   "outputs": [],
   "source": [
    "d = {}"
   ]
  },
  {
   "cell_type": "code",
   "execution_count": 88,
   "id": "f6d3ce76",
   "metadata": {},
   "outputs": [
    {
     "data": {
      "text/plain": [
       "dict"
      ]
     },
     "execution_count": 88,
     "metadata": {},
     "output_type": "execute_result"
    }
   ],
   "source": [
    "type(d)"
   ]
  },
  {
   "cell_type": "code",
   "execution_count": 1,
   "id": "e4128764",
   "metadata": {},
   "outputs": [],
   "source": [
    "d = {\"key1\": \"value1\", 1: 100, 3: 300, 20: 50, \"AB\": 435, 657: \"ER\", \"true\": True, \"false\": False}"
   ]
  },
  {
   "cell_type": "code",
   "execution_count": 2,
   "id": "a48adcd5",
   "metadata": {},
   "outputs": [
    {
     "data": {
      "text/plain": [
       "{'key1': 'value1',\n",
       " 1: 100,\n",
       " 3: 300,\n",
       " 20: 50,\n",
       " 'AB': 435,\n",
       " 657: 'ER',\n",
       " 'true': True,\n",
       " 'false': False}"
      ]
     },
     "execution_count": 2,
     "metadata": {},
     "output_type": "execute_result"
    }
   ],
   "source": [
    "d"
   ]
  },
  {
   "cell_type": "code",
   "execution_count": 3,
   "id": "1a84483d",
   "metadata": {},
   "outputs": [
    {
     "data": {
      "text/plain": [
       "'value1'"
      ]
     },
     "execution_count": 3,
     "metadata": {},
     "output_type": "execute_result"
    }
   ],
   "source": [
    "d['key1']"
   ]
  },
  {
   "cell_type": "code",
   "execution_count": 5,
   "id": "3c34399c",
   "metadata": {},
   "outputs": [],
   "source": [
    "# d['value1']\n",
    "# KeyError: 'value1'"
   ]
  },
  {
   "cell_type": "code",
   "execution_count": 6,
   "id": "4cdaf13a",
   "metadata": {},
   "outputs": [
    {
     "data": {
      "text/plain": [
       "50"
      ]
     },
     "execution_count": 6,
     "metadata": {},
     "output_type": "execute_result"
    }
   ],
   "source": [
    "d[20]"
   ]
  },
  {
   "cell_type": "code",
   "execution_count": 7,
   "id": "780357f7",
   "metadata": {},
   "outputs": [
    {
     "data": {
      "text/plain": [
       "False"
      ]
     },
     "execution_count": 7,
     "metadata": {},
     "output_type": "execute_result"
    }
   ],
   "source": [
    "d['false']"
   ]
  },
  {
   "cell_type": "code",
   "execution_count": 8,
   "id": "d13ffe6d",
   "metadata": {},
   "outputs": [
    {
     "data": {
      "text/plain": [
       "dict_keys(['key1', 1, 3, 20, 'AB', 657, 'true', 'false'])"
      ]
     },
     "execution_count": 8,
     "metadata": {},
     "output_type": "execute_result"
    }
   ],
   "source": [
    "d.keys()"
   ]
  },
  {
   "cell_type": "code",
   "execution_count": 9,
   "id": "941ce92a",
   "metadata": {},
   "outputs": [
    {
     "data": {
      "text/plain": [
       "dict_values(['value1', 100, 300, 50, 435, 'ER', True, False])"
      ]
     },
     "execution_count": 9,
     "metadata": {},
     "output_type": "execute_result"
    }
   ],
   "source": [
    "d.values()"
   ]
  },
  {
   "cell_type": "code",
   "execution_count": 10,
   "id": "dd607443",
   "metadata": {},
   "outputs": [
    {
     "data": {
      "text/plain": [
       "dict_items([('key1', 'value1'), (1, 100), (3, 300), (20, 50), ('AB', 435), (657, 'ER'), ('true', True), ('false', False)])"
      ]
     },
     "execution_count": 10,
     "metadata": {},
     "output_type": "execute_result"
    }
   ],
   "source": [
    "d.items() #no colon, whole items list er vitore, keys values tuple akare dekhabe"
   ]
  },
  {
   "cell_type": "code",
   "execution_count": 12,
   "id": "e11b2933",
   "metadata": {},
   "outputs": [],
   "source": [
    "d['AB'] = 345"
   ]
  },
  {
   "cell_type": "code",
   "execution_count": 13,
   "id": "2525c4b6",
   "metadata": {},
   "outputs": [
    {
     "data": {
      "text/plain": [
       "{'key1': 'value1',\n",
       " 1: 100,\n",
       " 3: 300,\n",
       " 20: 50,\n",
       " 'AB': 345,\n",
       " 657: 'ER',\n",
       " 'true': True,\n",
       " 'false': False}"
      ]
     },
     "execution_count": 13,
     "metadata": {},
     "output_type": "execute_result"
    }
   ],
   "source": [
    "d"
   ]
  },
  {
   "cell_type": "code",
   "execution_count": 14,
   "id": "e7f82665",
   "metadata": {},
   "outputs": [],
   "source": [
    "l = [2,4,7]"
   ]
  },
  {
   "cell_type": "code",
   "execution_count": 20,
   "id": "e72d1ed7",
   "metadata": {},
   "outputs": [
    {
     "name": "stdout",
     "output_type": "stream",
     "text": [
      "2\n",
      "4\n",
      "7\n"
     ]
    }
   ],
   "source": [
    "# general loop\n",
    "for i in l:\n",
    "    print(i)"
   ]
  },
  {
   "cell_type": "code",
   "execution_count": 21,
   "id": "af143843",
   "metadata": {},
   "outputs": [
    {
     "name": "stdout",
     "output_type": "stream",
     "text": [
      "key1\n",
      "1\n",
      "3\n",
      "20\n",
      "AB\n",
      "657\n",
      "true\n",
      "false\n"
     ]
    }
   ],
   "source": [
    "# in dict\n",
    "for i in d:\n",
    "    print(i)"
   ]
  },
  {
   "cell_type": "code",
   "execution_count": 22,
   "id": "df24b5b7",
   "metadata": {},
   "outputs": [
    {
     "name": "stdout",
     "output_type": "stream",
     "text": [
      "key1 value1\n",
      "1 100\n",
      "3 300\n",
      "20 50\n",
      "AB 345\n",
      "657 ER\n",
      "true True\n",
      "false False\n"
     ]
    }
   ],
   "source": [
    "for i, j in d.items():\n",
    "    print(i, j)"
   ]
  },
  {
   "cell_type": "code",
   "execution_count": 23,
   "id": "5aab8ab6",
   "metadata": {},
   "outputs": [],
   "source": [
    "# nested dict"
   ]
  },
  {
   "cell_type": "code",
   "execution_count": 24,
   "id": "7279c3d7",
   "metadata": {},
   "outputs": [],
   "source": [
    "# no sequel database"
   ]
  },
  {
   "cell_type": "code",
   "execution_count": 25,
   "id": "1622ccd8",
   "metadata": {},
   "outputs": [],
   "source": [
    "student = {\n",
    "    \"12weo3\":{\n",
    "        \"name\": \"A\",\n",
    "        \"dept\": \"M\"\n",
    "    },\n",
    "    \"45rttr\":{\n",
    "       \"name\": \"A\",\n",
    "        \"dept\": \"N\"\n",
    "    }\n",
    "}"
   ]
  },
  {
   "cell_type": "code",
   "execution_count": 26,
   "id": "d200a73e",
   "metadata": {},
   "outputs": [
    {
     "data": {
      "text/plain": [
       "{'12weo3': {'name': 'A', 'dept': 'M'}, '45rttr': {'name': 'A', 'dept': 'N'}}"
      ]
     },
     "execution_count": 26,
     "metadata": {},
     "output_type": "execute_result"
    }
   ],
   "source": [
    "student"
   ]
  },
  {
   "cell_type": "code",
   "execution_count": 27,
   "id": "3aebb5ab",
   "metadata": {},
   "outputs": [
    {
     "data": {
      "text/plain": [
       "{'name': 'A', 'dept': 'M'}"
      ]
     },
     "execution_count": 27,
     "metadata": {},
     "output_type": "execute_result"
    }
   ],
   "source": [
    "student[\"12weo3\"]"
   ]
  },
  {
   "cell_type": "code",
   "execution_count": 29,
   "id": "54648059",
   "metadata": {},
   "outputs": [
    {
     "data": {
      "text/plain": [
       "'A'"
      ]
     },
     "execution_count": 29,
     "metadata": {},
     "output_type": "execute_result"
    }
   ],
   "source": [
    "student[\"45rttr\"][\"name\"]"
   ]
  },
  {
   "cell_type": "code",
   "execution_count": 31,
   "id": "79177156",
   "metadata": {},
   "outputs": [
    {
     "data": {
      "text/plain": [
       "'M'"
      ]
     },
     "execution_count": 31,
     "metadata": {},
     "output_type": "execute_result"
    }
   ],
   "source": [
    "student[\"12weo3\"][\"dept\"]"
   ]
  },
  {
   "cell_type": "code",
   "execution_count": 38,
   "id": "1ca70e41",
   "metadata": {
    "scrolled": true
   },
   "outputs": [],
   "source": [
    "# student[\"12weo3\"][\"name\"][\"dept\"]\n",
    "# TypeError: string indices must be integers"
   ]
  },
  {
   "cell_type": "code",
   "execution_count": 40,
   "id": "8394dfc7",
   "metadata": {
    "scrolled": true
   },
   "outputs": [
    {
     "name": "stdout",
     "output_type": "stream",
     "text": [
      "12weo3\n",
      "45rttr\n"
     ]
    }
   ],
   "source": [
    "for i, j in student.items():\n",
    "    print(i)"
   ]
  },
  {
   "cell_type": "code",
   "execution_count": 43,
   "id": "ac940b46",
   "metadata": {
    "scrolled": true
   },
   "outputs": [
    {
     "name": "stdout",
     "output_type": "stream",
     "text": [
      "12weo3\n",
      "name A\n",
      "dept M\n",
      "45rttr\n",
      "name A\n",
      "dept N\n"
     ]
    }
   ],
   "source": [
    "for i, j in student.items():\n",
    "    print(i)\n",
    "    for key, value in j.items():\n",
    "        print(key, value)"
   ]
  },
  {
   "cell_type": "code",
   "execution_count": 44,
   "id": "588b8568",
   "metadata": {
    "scrolled": true
   },
   "outputs": [
    {
     "name": "stdout",
     "output_type": "stream",
     "text": [
      "name A\n",
      "dept M\n",
      "name A\n",
      "dept N\n"
     ]
    }
   ],
   "source": [
    "for i, j in student.items():\n",
    "#    print(i)\n",
    "    for key, value in j.items():\n",
    "        print(key, value)"
   ]
  },
  {
   "cell_type": "code",
   "execution_count": 45,
   "id": "cfe87709",
   "metadata": {
    "scrolled": true
   },
   "outputs": [
    {
     "name": "stdout",
     "output_type": "stream",
     "text": [
      "name A\n",
      "dept M\n",
      "----------------------------------------------------------------------\n",
      "name A\n",
      "dept N\n",
      "----------------------------------------------------------------------\n"
     ]
    }
   ],
   "source": [
    "for i, j in student.items():\n",
    "#    print(i)\n",
    "    for key, value in j.items():\n",
    "        print(key, value)\n",
    "    print(\"--\"*35)"
   ]
  },
  {
   "cell_type": "code",
   "execution_count": 46,
   "id": "715519dc",
   "metadata": {},
   "outputs": [
    {
     "data": {
      "text/plain": [
       "15"
      ]
     },
     "execution_count": 46,
     "metadata": {},
     "output_type": "execute_result"
    }
   ],
   "source": [
    "s = 5\n",
    "for i in range(1, s):\n",
    "    s += i\n",
    "s"
   ]
  },
  {
   "cell_type": "code",
   "execution_count": 47,
   "id": "36da5692",
   "metadata": {},
   "outputs": [
    {
     "data": {
      "text/plain": [
       "0"
      ]
     },
     "execution_count": 47,
     "metadata": {},
     "output_type": "execute_result"
    }
   ],
   "source": [
    "s = 0\n",
    "n = 5\n",
    "for i in range(1, s):\n",
    "    s += i\n",
    "s"
   ]
  },
  {
   "cell_type": "code",
   "execution_count": 48,
   "id": "28f2ea4e",
   "metadata": {},
   "outputs": [
    {
     "data": {
      "text/plain": [
       "10"
      ]
     },
     "execution_count": 48,
     "metadata": {},
     "output_type": "execute_result"
    }
   ],
   "source": [
    "s = 0\n",
    "n = 5\n",
    "for i in range(1, n):\n",
    "    s += i\n",
    "s"
   ]
  },
  {
   "cell_type": "code",
   "execution_count": 49,
   "id": "d80ddeae",
   "metadata": {},
   "outputs": [
    {
     "data": {
      "text/plain": [
       "15"
      ]
     },
     "execution_count": 49,
     "metadata": {},
     "output_type": "execute_result"
    }
   ],
   "source": [
    "s = 0\n",
    "n = 5\n",
    "for i in range(1, n+1):\n",
    "    s += i\n",
    "s"
   ]
  },
  {
   "cell_type": "code",
   "execution_count": 54,
   "id": "8d713592",
   "metadata": {},
   "outputs": [
    {
     "data": {
      "text/plain": [
       "10"
      ]
     },
     "execution_count": 54,
     "metadata": {},
     "output_type": "execute_result"
    }
   ],
   "source": [
    "s = 0\n",
    "n = 5\n",
    "for i in range(1, n):\n",
    "    s += i\n",
    "s"
   ]
  },
  {
   "cell_type": "code",
   "execution_count": 50,
   "id": "9bcf2da2",
   "metadata": {},
   "outputs": [
    {
     "data": {
      "text/plain": [
       "6"
      ]
     },
     "execution_count": 50,
     "metadata": {},
     "output_type": "execute_result"
    }
   ],
   "source": [
    "s = 0\n",
    "n = 5\n",
    "for i in range(1, n-1):\n",
    "    s += i\n",
    "s"
   ]
  },
  {
   "cell_type": "code",
   "execution_count": 51,
   "id": "1d3e4dce",
   "metadata": {},
   "outputs": [
    {
     "data": {
      "text/plain": [
       "0"
      ]
     },
     "execution_count": 51,
     "metadata": {},
     "output_type": "execute_result"
    }
   ],
   "source": [
    "s = 0\n",
    "n = 5\n",
    "for i in range(1):\n",
    "    s += i\n",
    "s"
   ]
  },
  {
   "cell_type": "code",
   "execution_count": 53,
   "id": "53651d5b",
   "metadata": {},
   "outputs": [],
   "source": [
    "# s = 0\n",
    "# n = 5\n",
    "# for i in range():\n",
    "#     s += i\n",
    "# s\n",
    "# TypeError: range expected at least 1 argument, got 0"
   ]
  },
  {
   "cell_type": "code",
   "execution_count": 56,
   "id": "89855f2e",
   "metadata": {},
   "outputs": [],
   "source": [
    "def sum(n):\n",
    "    s = 0\n",
    "    n = 5\n",
    "    for i in range(1, n+1):\n",
    "        s += i\n",
    "    s"
   ]
  },
  {
   "cell_type": "code",
   "execution_count": 62,
   "id": "2dc66063",
   "metadata": {},
   "outputs": [
    {
     "data": {
      "text/plain": [
       "15"
      ]
     },
     "execution_count": 62,
     "metadata": {},
     "output_type": "execute_result"
    }
   ],
   "source": [
    "sum(8)"
   ]
  },
  {
   "cell_type": "code",
   "execution_count": 65,
   "id": "bd7d0438",
   "metadata": {},
   "outputs": [],
   "source": [
    "def summation(n):\n",
    "    s = 0\n",
    "    n = 5\n",
    "    for i in range(1, n+1):\n",
    "        s += i\n",
    "    return s"
   ]
  },
  {
   "cell_type": "code",
   "execution_count": 66,
   "id": "9bb8ab76",
   "metadata": {},
   "outputs": [
    {
     "data": {
      "text/plain": [
       "15"
      ]
     },
     "execution_count": 66,
     "metadata": {},
     "output_type": "execute_result"
    }
   ],
   "source": [
    "summation(42)"
   ]
  },
  {
   "cell_type": "code",
   "execution_count": null,
   "id": "fecd60bf",
   "metadata": {},
   "outputs": [],
   "source": []
  },
  {
   "cell_type": "code",
   "execution_count": 67,
   "id": "73597eb6",
   "metadata": {},
   "outputs": [],
   "source": [
    "def summation(n):\n",
    "    s = 0\n",
    "    for i in range(1, n+1):\n",
    "        s += i\n",
    "    return s"
   ]
  },
  {
   "cell_type": "code",
   "execution_count": 68,
   "id": "99da3c4b",
   "metadata": {},
   "outputs": [
    {
     "data": {
      "text/plain": [
       "528"
      ]
     },
     "execution_count": 68,
     "metadata": {},
     "output_type": "execute_result"
    }
   ],
   "source": [
    "summation(32)"
   ]
  },
  {
   "cell_type": "code",
   "execution_count": 74,
   "id": "a803dddc",
   "metadata": {},
   "outputs": [],
   "source": [
    "def sum(n):\n",
    "    s = 0\n",
    "    for i in range(1, n+1):\n",
    "        s += i\n",
    "    s"
   ]
  },
  {
   "cell_type": "code",
   "execution_count": 75,
   "id": "2a601dba",
   "metadata": {},
   "outputs": [],
   "source": [
    "sum(18)"
   ]
  },
  {
   "cell_type": "code",
   "execution_count": null,
   "id": "05f70a00",
   "metadata": {},
   "outputs": [],
   "source": []
  },
  {
   "cell_type": "code",
   "execution_count": 76,
   "id": "bf49acba",
   "metadata": {},
   "outputs": [],
   "source": [
    "def summation(n):\n",
    "    s = 0\n",
    "    for i in range(1, n+1):\n",
    "        s += i\n",
    "    s"
   ]
  },
  {
   "cell_type": "code",
   "execution_count": 77,
   "id": "944352fc",
   "metadata": {},
   "outputs": [
    {
     "data": {
      "text/plain": [
       "10"
      ]
     },
     "execution_count": 77,
     "metadata": {},
     "output_type": "execute_result"
    }
   ],
   "source": [
    "s"
   ]
  },
  {
   "cell_type": "code",
   "execution_count": 78,
   "id": "e9da2049",
   "metadata": {},
   "outputs": [],
   "source": [
    "summation(15) #return na dile ashbe na"
   ]
  },
  {
   "cell_type": "code",
   "execution_count": 79,
   "id": "bf011d83",
   "metadata": {},
   "outputs": [],
   "source": [
    "def summation(n):\n",
    "    s = 0\n",
    "    for i in range(1, n+1):\n",
    "        s += i\n",
    "    return s"
   ]
  },
  {
   "cell_type": "code",
   "execution_count": null,
   "id": "6d8d3e55",
   "metadata": {},
   "outputs": [],
   "source": []
  }
 ],
 "metadata": {
  "kernelspec": {
   "display_name": "Python 3 (ipykernel)",
   "language": "python",
   "name": "python3"
  },
  "language_info": {
   "codemirror_mode": {
    "name": "ipython",
    "version": 3
   },
   "file_extension": ".py",
   "mimetype": "text/x-python",
   "name": "python",
   "nbconvert_exporter": "python",
   "pygments_lexer": "ipython3",
   "version": "3.9.7"
  }
 },
 "nbformat": 4,
 "nbformat_minor": 5
}
