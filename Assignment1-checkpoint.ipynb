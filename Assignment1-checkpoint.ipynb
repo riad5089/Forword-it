{
 "cells": [
  {
   "cell_type": "markdown",
   "id": "377e17f8",
   "metadata": {},
   "source": [
    "# Object Oriented Programming"
   ]
  },
  {
   "cell_type": "code",
   "execution_count": 1,
   "id": "da45921d",
   "metadata": {},
   "outputs": [],
   "source": [
    "class employee:\n",
    "    #global variable\n",
    "    name = \"\"\n",
    "    dept = \"\"\n",
    "    salary = \"\"\n",
    "    \n",
    "    #contructor\n",
    "    #local variable\n",
    "    \n",
    "    def __init__ (self, name, dept, salary):\n",
    "        self.name = name\n",
    "        self.dept = dept\n",
    "        self.salary = salary\n",
    "    \n",
    "    #functions\n",
    "    def get_emp_name(self):\n",
    "        return self.name\n",
    "    def get_emp_dept(self):\n",
    "        return self.dept\n",
    "    def get_emp_salary(self):\n",
    "        return self.salary\n",
    "    def __str__(self):\n",
    "        return self.name+\" \"+self.dept+\" \"+self.salary"
   ]
  },
  {
   "cell_type": "code",
   "execution_count": 2,
   "id": "4934ed4c",
   "metadata": {},
   "outputs": [],
   "source": [
    "employee1 = employee(\"Habib\", \"Data Analysis\", \"60000\")"
   ]
  },
  {
   "cell_type": "code",
   "execution_count": 3,
   "id": "0439980d",
   "metadata": {},
   "outputs": [
    {
     "name": "stdout",
     "output_type": "stream",
     "text": [
      "Habib Data Analysis 60000\n"
     ]
    }
   ],
   "source": [
    "print(employee1)"
   ]
  },
  {
   "cell_type": "code",
   "execution_count": 4,
   "id": "8b03b5dd",
   "metadata": {},
   "outputs": [],
   "source": [
    "employee2 = employee(\"Hashem\", \"Data Entry\", \"30000\")"
   ]
  },
  {
   "cell_type": "code",
   "execution_count": 5,
   "id": "49029b2f",
   "metadata": {},
   "outputs": [
    {
     "name": "stdout",
     "output_type": "stream",
     "text": [
      "Hashem Data Entry 30000\n"
     ]
    }
   ],
   "source": [
    "print(employee2)"
   ]
  },
  {
   "cell_type": "code",
   "execution_count": null,
   "id": "019d4e0d",
   "metadata": {},
   "outputs": [],
   "source": []
  }
 ],
 "metadata": {
  "kernelspec": {
   "display_name": "Python 3 (ipykernel)",
   "language": "python",
   "name": "python3"
  },
  "language_info": {
   "codemirror_mode": {
    "name": "ipython",
    "version": 3
   },
   "file_extension": ".py",
   "mimetype": "text/x-python",
   "name": "python",
   "nbconvert_exporter": "python",
   "pygments_lexer": "ipython3",
   "version": "3.9.7"
  }
 },
 "nbformat": 4,
 "nbformat_minor": 5
}
