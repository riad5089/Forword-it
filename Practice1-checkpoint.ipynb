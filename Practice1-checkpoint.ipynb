{
 "cells": [
  {
   "cell_type": "code",
   "execution_count": null,
   "id": "b2602ac9",
   "metadata": {
    "scrolled": true
   },
   "outputs": [],
   "source": [
    "numbers = [1, 2, 88, 42, 99]\n",
    "if numbers == 42:\n",
    "    print(false)\n",
    "else :\n",
    "    print(numbers)"
   ]
  },
  {
   "cell_type": "code",
   "execution_count": null,
   "id": "b7c9852b",
   "metadata": {},
   "outputs": [],
   "source": [
    "numbers = [1, 2, 88, 42, 99]\n",
    "small = min(numbers)\n",
    "print(small)"
   ]
  },
  {
   "cell_type": "code",
   "execution_count": null,
   "id": "9eb865a8",
   "metadata": {},
   "outputs": [],
   "source": [
    "numbers = [1, 2, 88, 42, 99]\n",
    "small = min(numbers)\n",
    "print(small)\n",
    "while(True):\n",
    "    no = int(small)\n",
    "    if no == 42:\n",
    "        break\n",
    "    else :\n",
    "        print(no)"
   ]
  },
  {
   "cell_type": "code",
   "execution_count": null,
   "id": "611ba799",
   "metadata": {},
   "outputs": [],
   "source": []
  }
 ],
 "metadata": {
  "kernelspec": {
   "display_name": "Python 3 (ipykernel)",
   "language": "python",
   "name": "python3"
  },
  "language_info": {
   "codemirror_mode": {
    "name": "ipython",
    "version": 3
   },
   "file_extension": ".py",
   "mimetype": "text/x-python",
   "name": "python",
   "nbconvert_exporter": "python",
   "pygments_lexer": "ipython3",
   "version": "3.9.7"
  }
 },
 "nbformat": 4,
 "nbformat_minor": 5
}
