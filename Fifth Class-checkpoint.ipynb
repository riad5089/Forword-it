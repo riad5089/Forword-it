{
 "cells": [
  {
   "cell_type": "markdown",
   "id": "d3e14a01",
   "metadata": {},
   "source": [
    "# Object Oriented Programming"
   ]
  },
  {
   "cell_type": "code",
   "execution_count": 1,
   "id": "d0510ff5",
   "metadata": {},
   "outputs": [],
   "source": [
    "# Class, OOP Principles -> 1. abstraction, 2. encapsulation, 3. inheritance, 4. polymorphism"
   ]
  },
  {
   "cell_type": "markdown",
   "id": "f05b1a74",
   "metadata": {},
   "source": [
    "# Class"
   ]
  },
  {
   "cell_type": "code",
   "execution_count": 2,
   "id": "8c40acb7",
   "metadata": {},
   "outputs": [],
   "source": [
    "# class -> object's blue print"
   ]
  },
  {
   "cell_type": "code",
   "execution_count": 3,
   "id": "8ceb6cc0",
   "metadata": {},
   "outputs": [],
   "source": [
    "# class Student:\n",
    "    \n",
    "    # properties -> 1. attribute, 2. functions\n",
    "    # IndentationError: expected an indented block"
   ]
  },
  {
   "cell_type": "code",
   "execution_count": 4,
   "id": "2f9b5d63",
   "metadata": {},
   "outputs": [],
   "source": [
    "class Student:\n",
    "    pass"
   ]
  },
  {
   "cell_type": "code",
   "execution_count": 5,
   "id": "c2313dc9",
   "metadata": {},
   "outputs": [],
   "source": [
    "# class Student:\n",
    "#     IndentationError: expected an indented block   #  should use pass"
   ]
  },
  {
   "cell_type": "code",
   "execution_count": 6,
   "id": "0fde50c6",
   "metadata": {},
   "outputs": [],
   "source": [
    "# class Student:\n",
    "    \n",
    "    # properties -> 1. attr, 2. functions\n",
    "    "
   ]
  },
  {
   "cell_type": "code",
   "execution_count": 7,
   "id": "17209577",
   "metadata": {},
   "outputs": [],
   "source": [
    "import numpy as np"
   ]
  },
  {
   "cell_type": "code",
   "execution_count": 8,
   "id": "8febfc78",
   "metadata": {},
   "outputs": [
    {
     "data": {
      "text/plain": [
       "19"
      ]
     },
     "execution_count": 8,
     "metadata": {},
     "output_type": "execute_result"
    }
   ],
   "source": [
    "np.random.randint(100)"
   ]
  },
  {
   "cell_type": "code",
   "execution_count": 9,
   "id": "ec2f2be7",
   "metadata": {},
   "outputs": [
    {
     "data": {
      "text/plain": [
       "3.141592653589793"
      ]
     },
     "execution_count": 9,
     "metadata": {},
     "output_type": "execute_result"
    }
   ],
   "source": [
    "np.pi"
   ]
  },
  {
   "cell_type": "code",
   "execution_count": 10,
   "id": "d5a489ac",
   "metadata": {},
   "outputs": [],
   "source": [
    "class student:\n",
    "    #global variable\n",
    "    name = \"Effat\"\n",
    "    dept = \"BBA\"\n",
    "    \n",
    "    #functions\n",
    "    def get_stu_name(self):\n",
    "        return self.name"
   ]
  },
  {
   "cell_type": "code",
   "execution_count": 11,
   "id": "d1c6d6ac",
   "metadata": {},
   "outputs": [],
   "source": [
    "#object\n",
    "student = student()"
   ]
  },
  {
   "cell_type": "code",
   "execution_count": 12,
   "id": "238fde00",
   "metadata": {},
   "outputs": [
    {
     "data": {
      "text/plain": [
       "'Effat'"
      ]
     },
     "execution_count": 12,
     "metadata": {},
     "output_type": "execute_result"
    }
   ],
   "source": [
    "student.name"
   ]
  },
  {
   "cell_type": "code",
   "execution_count": 13,
   "id": "47bcd8ce",
   "metadata": {},
   "outputs": [
    {
     "data": {
      "text/plain": [
       "'BBA'"
      ]
     },
     "execution_count": 13,
     "metadata": {},
     "output_type": "execute_result"
    }
   ],
   "source": [
    "student.dept"
   ]
  },
  {
   "cell_type": "code",
   "execution_count": 14,
   "id": "f3618422",
   "metadata": {},
   "outputs": [],
   "source": [
    "student.name = \"Rumpa\"\n",
    "student.dept = \"CSE\""
   ]
  },
  {
   "cell_type": "code",
   "execution_count": 15,
   "id": "33ca2304",
   "metadata": {},
   "outputs": [
    {
     "data": {
      "text/plain": [
       "'Rumpa'"
      ]
     },
     "execution_count": 15,
     "metadata": {},
     "output_type": "execute_result"
    }
   ],
   "source": [
    "student.name"
   ]
  },
  {
   "cell_type": "code",
   "execution_count": 16,
   "id": "2f3b5127",
   "metadata": {},
   "outputs": [
    {
     "data": {
      "text/plain": [
       "'CSE'"
      ]
     },
     "execution_count": 16,
     "metadata": {},
     "output_type": "execute_result"
    }
   ],
   "source": [
    "student.dept"
   ]
  },
  {
   "cell_type": "code",
   "execution_count": 17,
   "id": "dba91dc6",
   "metadata": {},
   "outputs": [
    {
     "data": {
      "text/plain": [
       "'Rumpa'"
      ]
     },
     "execution_count": 17,
     "metadata": {},
     "output_type": "execute_result"
    }
   ],
   "source": [
    "student.get_stu_name()"
   ]
  },
  {
   "cell_type": "code",
   "execution_count": 33,
   "id": "41059717",
   "metadata": {},
   "outputs": [],
   "source": [
    "class student:\n",
    "    #global variable\n",
    "    name = \"Riad\"\n",
    "    dept = \"IT\"\n",
    "    \n",
    "    #contructor\n",
    "    #local variable\n",
    "    \n",
    "    def __init__ (self):\n",
    "        pass\n",
    "    \n",
    "    #functions\n",
    "    def get_stu_name(self):\n",
    "        return self.name\n",
    "    def get_stu_dept(self):\n",
    "        return self.dept"
   ]
  },
  {
   "cell_type": "code",
   "execution_count": 34,
   "id": "ed399be0",
   "metadata": {},
   "outputs": [],
   "source": [
    "students = student()"
   ]
  },
  {
   "cell_type": "code",
   "execution_count": 35,
   "id": "89e2ba1e",
   "metadata": {},
   "outputs": [
    {
     "data": {
      "text/plain": [
       "'Riad'"
      ]
     },
     "execution_count": 35,
     "metadata": {},
     "output_type": "execute_result"
    }
   ],
   "source": [
    "students.get_stu_name()"
   ]
  },
  {
   "cell_type": "code",
   "execution_count": 36,
   "id": "b5a9e7e3",
   "metadata": {},
   "outputs": [
    {
     "data": {
      "text/plain": [
       "'IT'"
      ]
     },
     "execution_count": 36,
     "metadata": {},
     "output_type": "execute_result"
    }
   ],
   "source": [
    "students.get_stu_dept()"
   ]
  },
  {
   "cell_type": "code",
   "execution_count": 37,
   "id": "7d8e087f",
   "metadata": {},
   "outputs": [],
   "source": [
    "class student:\n",
    "    #global variable\n",
    "    name = \"\"\n",
    "    dept = \"\"\n",
    "    \n",
    "    #contructor\n",
    "    #local variable\n",
    "    \n",
    "    def __init__ (self, name, dept):\n",
    "        self.name = name\n",
    "        self.dept = dept\n",
    "    \n",
    "    #functions\n",
    "    def get_stu_name(self):\n",
    "        return self.name\n",
    "    def get_stu_dept(self):\n",
    "        return self.dept"
   ]
  },
  {
   "cell_type": "code",
   "execution_count": 38,
   "id": "524d40e6",
   "metadata": {},
   "outputs": [],
   "source": [
    "s2 = student(\"Ripon\", \"BBA\")"
   ]
  },
  {
   "cell_type": "code",
   "execution_count": 39,
   "id": "4ebe6b52",
   "metadata": {},
   "outputs": [
    {
     "data": {
      "text/plain": [
       "'Ripon'"
      ]
     },
     "execution_count": 39,
     "metadata": {},
     "output_type": "execute_result"
    }
   ],
   "source": [
    "s2.name"
   ]
  },
  {
   "cell_type": "code",
   "execution_count": 40,
   "id": "2cfc9efd",
   "metadata": {},
   "outputs": [
    {
     "data": {
      "text/plain": [
       "'BBA'"
      ]
     },
     "execution_count": 40,
     "metadata": {},
     "output_type": "execute_result"
    }
   ],
   "source": [
    "s2.dept"
   ]
  },
  {
   "cell_type": "code",
   "execution_count": 41,
   "id": "0ee24d9b",
   "metadata": {},
   "outputs": [
    {
     "data": {
      "text/plain": [
       "'Ripon'"
      ]
     },
     "execution_count": 41,
     "metadata": {},
     "output_type": "execute_result"
    }
   ],
   "source": [
    "s2.get_stu_name()"
   ]
  },
  {
   "cell_type": "code",
   "execution_count": 42,
   "id": "4f4985e5",
   "metadata": {},
   "outputs": [
    {
     "data": {
      "text/plain": [
       "'BBA'"
      ]
     },
     "execution_count": 42,
     "metadata": {},
     "output_type": "execute_result"
    }
   ],
   "source": [
    "s2.get_stu_dept()"
   ]
  },
  {
   "cell_type": "code",
   "execution_count": 43,
   "id": "bb3db929",
   "metadata": {},
   "outputs": [],
   "source": [
    "class student:\n",
    "    #global variable\n",
    "    name = \"\"\n",
    "    dept = \"\"\n",
    "    \n",
    "    #contructor\n",
    "    #local variable\n",
    "    \n",
    "    def __init__ (self, name, dept):\n",
    "        self.name = name\n",
    "        self.dept = dept\n",
    "    \n",
    "    #functions\n",
    "    def get_stu_name(self):\n",
    "        return self.name\n",
    "    def get_stu_dept(self):\n",
    "        return self.dept\n",
    "    def __str__(self):\n",
    "        return self.name ; self.dept"
   ]
  },
  {
   "cell_type": "code",
   "execution_count": null,
   "id": "d3ae262d",
   "metadata": {},
   "outputs": [],
   "source": []
  }
 ],
 "metadata": {
  "kernelspec": {
   "display_name": "Python 3 (ipykernel)",
   "language": "python",
   "name": "python3"
  },
  "language_info": {
   "codemirror_mode": {
    "name": "ipython",
    "version": 3
   },
   "file_extension": ".py",
   "mimetype": "text/x-python",
   "name": "python",
   "nbconvert_exporter": "python",
   "pygments_lexer": "ipython3",
   "version": "3.9.7"
  }
 },
 "nbformat": 4,
 "nbformat_minor": 5
}
