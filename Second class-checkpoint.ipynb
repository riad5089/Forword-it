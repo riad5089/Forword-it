{
 "cells": [
  {
   "cell_type": "code",
   "execution_count": 1,
   "id": "fb00dfe9",
   "metadata": {},
   "outputs": [],
   "source": [
    "# Condition"
   ]
  },
  {
   "cell_type": "code",
   "execution_count": 2,
   "id": "adeaa920",
   "metadata": {},
   "outputs": [
    {
     "name": "stdout",
     "output_type": "stream",
     "text": [
      "True\n"
     ]
    }
   ],
   "source": [
    "if 100>10:\n",
    "    print(\"True\")\n",
    "else:\n",
    "    print(\"False\")"
   ]
  },
  {
   "cell_type": "code",
   "execution_count": 3,
   "id": "7a4f55f5",
   "metadata": {},
   "outputs": [
    {
     "name": "stdout",
     "output_type": "stream",
     "text": [
      "False\n"
     ]
    }
   ],
   "source": [
    "if 100<10:\n",
    "    print(\"True\")\n",
    "else:\n",
    "    print(\"False\")"
   ]
  },
  {
   "cell_type": "code",
   "execution_count": 4,
   "id": "6dc021a5",
   "metadata": {},
   "outputs": [
    {
     "name": "stdout",
     "output_type": "stream",
     "text": [
      "Go for watch movie in cineplex\n"
     ]
    }
   ],
   "source": [
    "# if else ladder\n",
    "money = 1100\n",
    "if money >= 1000:\n",
    "    print(\"Go for watch movie in cineplex\")\n",
    "else:\n",
    "    print(\"Stay in Home\")"
   ]
  },
  {
   "cell_type": "code",
   "execution_count": 5,
   "id": "fef85ae4",
   "metadata": {},
   "outputs": [],
   "source": [
    "# if else nested\n"
   ]
  },
  {
   "cell_type": "markdown",
   "id": "23cd18fd",
   "metadata": {},
   "source": [
    "# Loop"
   ]
  },
  {
   "cell_type": "code",
   "execution_count": 6,
   "id": "154d713a",
   "metadata": {},
   "outputs": [
    {
     "name": "stdout",
     "output_type": "stream",
     "text": [
      "0\n",
      "1\n",
      "2\n",
      "3\n",
      "4\n",
      "5\n",
      "6\n",
      "7\n",
      "8\n",
      "9\n"
     ]
    }
   ],
   "source": [
    "# for , while\n",
    "for i in range(10):\n",
    "    print(i)"
   ]
  },
  {
   "cell_type": "code",
   "execution_count": 7,
   "id": "9d10dc62",
   "metadata": {},
   "outputs": [
    {
     "name": "stdout",
     "output_type": "stream",
     "text": [
      "0\n",
      "1\n",
      "2\n",
      "3\n",
      "4\n",
      "5\n",
      "6\n",
      "7\n",
      "8\n",
      "9\n"
     ]
    }
   ],
   "source": [
    "i=0\n",
    "n=10\n",
    "while i<n:\n",
    "    print(i)\n",
    "    i = i+1"
   ]
  },
  {
   "cell_type": "markdown",
   "id": "68626871",
   "metadata": {},
   "source": [
    "# Condition"
   ]
  },
  {
   "cell_type": "code",
   "execution_count": 8,
   "id": "e256283b",
   "metadata": {},
   "outputs": [
    {
     "name": "stdout",
     "output_type": "stream",
     "text": [
      "true\n"
     ]
    }
   ],
   "source": [
    "if 100>10:\n",
    "    print(\"true\")\n",
    "else:\n",
    "    print(\"false\")"
   ]
  },
  {
   "cell_type": "code",
   "execution_count": 9,
   "id": "f3110a72",
   "metadata": {},
   "outputs": [
    {
     "name": "stdout",
     "output_type": "stream",
     "text": [
      "false\n"
     ]
    }
   ],
   "source": [
    "if 100<10:\n",
    "    print(\"true\")\n",
    "else:\n",
    "    print(\"false\")"
   ]
  },
  {
   "cell_type": "code",
   "execution_count": 10,
   "id": "e01e56d4",
   "metadata": {},
   "outputs": [
    {
     "name": "stdout",
     "output_type": "stream",
     "text": [
      "Stay in home\n"
     ]
    }
   ],
   "source": [
    "money = 0\n",
    "if money >= 1000:\n",
    "    print(\"Go for watch movie in cineplex\")\n",
    "else:\n",
    "    print(\"Stay in home\")"
   ]
  },
  {
   "cell_type": "code",
   "execution_count": 11,
   "id": "6518bda8",
   "metadata": {},
   "outputs": [
    {
     "name": "stdout",
     "output_type": "stream",
     "text": [
      "Go for watch movie in cineplex\n"
     ]
    }
   ],
   "source": [
    "money = 1100\n",
    "if money >= 1000:\n",
    "    print(\"Go for watch movie in cineplex\")\n",
    "else:\n",
    "    print(\"Stay in home\")"
   ]
  },
  {
   "cell_type": "code",
   "execution_count": 12,
   "id": "94c9d6c3",
   "metadata": {},
   "outputs": [
    {
     "name": "stdout",
     "output_type": "stream",
     "text": [
      "Go for watch movie in cineplex\n"
     ]
    }
   ],
   "source": [
    "money = 11000\n",
    "if money >= 1000:\n",
    "    print(\"Go for watch movie in cineplex\")\n",
    "elif money >= 2000:\n",
    "    print(\"watch and eating dinner\")\n",
    "else:\n",
    "    print(\"Stay in home\")"
   ]
  },
  {
   "cell_type": "code",
   "execution_count": 13,
   "id": "d9aa79b5",
   "metadata": {},
   "outputs": [
    {
     "name": "stdout",
     "output_type": "stream",
     "text": [
      "Stay in home\n"
     ]
    }
   ],
   "source": [
    "money = 11000\n",
    "if money >= 1000 and money <= 1999:\n",
    "    print(\"Go for watch movie in cineplex\")\n",
    "else:\n",
    "    print(\"Stay in home\")"
   ]
  },
  {
   "cell_type": "code",
   "execution_count": 14,
   "id": "4f79c581",
   "metadata": {},
   "outputs": [
    {
     "name": "stdout",
     "output_type": "stream",
     "text": [
      "watch and eating dinner\n"
     ]
    }
   ],
   "source": [
    "# if else ladder\n",
    "money = 11000\n",
    "if money >= 1000 and money <= 1999:\n",
    "    print(\"Go for watch movie in cineplex\")\n",
    "elif money >= 2000:\n",
    "    print(\"watch and eating dinner\")\n",
    "else:\n",
    "    print(\"Stay in home\")"
   ]
  },
  {
   "cell_type": "code",
   "execution_count": 15,
   "id": "3ee1022c",
   "metadata": {},
   "outputs": [
    {
     "name": "stdout",
     "output_type": "stream",
     "text": [
      "Go for watch movie in cineplex\n"
     ]
    }
   ],
   "source": [
    "money = 11000\n",
    "if money >= 1000:\n",
    "    print(\"Go for watch movie in cineplex\")\n",
    "elif money >= 2000 and money <= 5000:\n",
    "    print(\"watch and eating dinner\")\n",
    "else:\n",
    "    print(\"Stay in home\")"
   ]
  },
  {
   "cell_type": "code",
   "execution_count": 16,
   "id": "fc46467b",
   "metadata": {},
   "outputs": [
    {
     "name": "stdout",
     "output_type": "stream",
     "text": [
      "Stay in home\n"
     ]
    }
   ],
   "source": [
    "money = 11000\n",
    "if money >= 1000 and money <= 1999:\n",
    "    print(\"Go for watch movie in cineplex\")\n",
    "elif money >= 2000 and money <= 5000:\n",
    "    print(\"watch and eating dinner\")\n",
    "else:\n",
    "    print(\"Stay in home\")"
   ]
  },
  {
   "cell_type": "code",
   "execution_count": 17,
   "id": "5272c75d",
   "metadata": {},
   "outputs": [
    {
     "name": "stdout",
     "output_type": "stream",
     "text": [
      "watch and eating dinner\n"
     ]
    }
   ],
   "source": [
    "money = 11000\n",
    "if money >= 1000 and money <= 1999:\n",
    "    print(\"Go for watch movie in cineplex\")\n",
    "elif money >= 2000 or money <= 5000:\n",
    "    print(\"watch and eating dinner\")\n",
    "else:\n",
    "    print(\"Stay in home\")"
   ]
  },
  {
   "cell_type": "code",
   "execution_count": 18,
   "id": "eb2f8bdc",
   "metadata": {},
   "outputs": [
    {
     "name": "stdout",
     "output_type": "stream",
     "text": [
      "Stay in home\n"
     ]
    }
   ],
   "source": [
    "money = 11000 # and, or, not\n",
    "if money >= 1000 and money <= 1999:\n",
    "    print(\"Go for watch movie in cineplex\")\n",
    "elif money >= 2000 and money <= 5000:\n",
    "    print(\"watch and eating dinner\")\n",
    "elif not money >= 9000:\n",
    "    print(\"I will buy a tShirt\")\n",
    "else:\n",
    "    print(\"Stay in home\")"
   ]
  },
  {
   "cell_type": "code",
   "execution_count": 19,
   "id": "56fadac6",
   "metadata": {},
   "outputs": [
    {
     "name": "stdout",
     "output_type": "stream",
     "text": [
      "I will buy a tShirt\n"
     ]
    }
   ],
   "source": [
    "money = 11000\n",
    "if money >= 1000 and money <= 1999:\n",
    "    print(\"Go for watch movie in cineplex\")\n",
    "elif money >= 2000 and money <= 5000:\n",
    "    print(\"watch and eating dinner\")\n",
    "elif not money <= 9000:\n",
    "    print(\"I will buy a tShirt\")\n",
    "else:\n",
    "    print(\"Stay in home\")"
   ]
  },
  {
   "cell_type": "code",
   "execution_count": 20,
   "id": "7a107a79",
   "metadata": {},
   "outputs": [
    {
     "name": "stdout",
     "output_type": "stream",
     "text": [
      "watch and eating dinner\n"
     ]
    }
   ],
   "source": [
    "money = 11000\n",
    "if money >= 1000 and money <= 1999:\n",
    "    print(\"Go for watch movie in cineplex\")\n",
    "elif money >= 2000 or money <= 5000:\n",
    "    print(\"watch and eating dinner\")\n",
    "elif not money >= 9000:\n",
    "    print(\"I will buy a tShirt\")\n",
    "else:\n",
    "    print(\"Stay in home\")"
   ]
  },
  {
   "cell_type": "code",
   "execution_count": 21,
   "id": "c6393c96",
   "metadata": {},
   "outputs": [
    {
     "name": "stdout",
     "output_type": "stream",
     "text": [
      "watch and eating dinner\n"
     ]
    }
   ],
   "source": [
    "money = 11000\n",
    "if money >= 1000 and money <= 1999:\n",
    "    print(\"Go for watch movie in cineplex\")\n",
    "elif money >= 2000 or money <= 5000:\n",
    "    print(\"watch and eating dinner\")\n",
    "elif not money <= 9000:\n",
    "    print(\"I will buy a tShirt\")\n",
    "else:\n",
    "    print(\"Stay in home\")"
   ]
  },
  {
   "cell_type": "code",
   "execution_count": 22,
   "id": "fc903c52",
   "metadata": {},
   "outputs": [
    {
     "name": "stdout",
     "output_type": "stream",
     "text": [
      "Under 18\n"
     ]
    }
   ],
   "source": [
    "# if else nested\n",
    "# nid and age\n",
    "age = 0\n",
    "nid = False\n",
    "if age >= 18:\n",
    "    print(\"Accepted for passport\")\n",
    "    if nid == True:\n",
    "        print(\"Varified for passport\")\n",
    "    else:\n",
    "        print(\"Not varified\")\n",
    "else:\n",
    "    print(\"Under 18\")"
   ]
  },
  {
   "cell_type": "code",
   "execution_count": 23,
   "id": "1becbddf",
   "metadata": {},
   "outputs": [
    {
     "name": "stdout",
     "output_type": "stream",
     "text": [
      "Under 18\n"
     ]
    }
   ],
   "source": [
    "age = 0\n",
    "nid = False\n",
    "bc = False\n",
    "if age >= 18:\n",
    "    print(\"Accepted for passport\")\n",
    "    if nid == True:\n",
    "        print(\"Varified for passport\")\n",
    "    else:\n",
    "        print(\"Not varified\")\n",
    "else:\n",
    "    print(\"Under 18\")"
   ]
  },
  {
   "cell_type": "code",
   "execution_count": 24,
   "id": "87f470a6",
   "metadata": {},
   "outputs": [
    {
     "name": "stdout",
     "output_type": "stream",
     "text": [
      "Accepted for passport\n",
      "Not varified\n"
     ]
    }
   ],
   "source": [
    "age = 18\n",
    "nid = False\n",
    "bc = False\n",
    "if age >= 18:\n",
    "    print(\"Accepted for passport\")\n",
    "    if nid == True:\n",
    "        print(\"Varified for passport\")\n",
    "    else:\n",
    "        print(\"Not varified\")\n",
    "else:\n",
    "    print(\"Under 18\")"
   ]
  },
  {
   "cell_type": "code",
   "execution_count": 25,
   "id": "c0067a61",
   "metadata": {},
   "outputs": [
    {
     "name": "stdout",
     "output_type": "stream",
     "text": [
      "Accepted for passport\n",
      "Varified for passport\n"
     ]
    }
   ],
   "source": [
    "age = 18\n",
    "nid = True\n",
    "bc = False\n",
    "if age >= 18:\n",
    "    print(\"Accepted for passport\")\n",
    "    if nid == True:\n",
    "        print(\"Varified for passport\")\n",
    "    else:\n",
    "        print(\"Not varified\")\n",
    "else:\n",
    "    print(\"Under 18\")"
   ]
  },
  {
   "cell_type": "code",
   "execution_count": 26,
   "id": "cf91239f",
   "metadata": {},
   "outputs": [
    {
     "name": "stdout",
     "output_type": "stream",
     "text": [
      "Under 18\n"
     ]
    }
   ],
   "source": [
    "age = 0\n",
    "nid = True\n",
    "bc = False\n",
    "if age >= 18:\n",
    "    print(\"Accepted for passport\")\n",
    "    if nid == True:\n",
    "        print(\"Varified for passport\")\n",
    "    else:\n",
    "        print(\"Not varified\")\n",
    "else:\n",
    "    print(\"Under 18\")"
   ]
  },
  {
   "cell_type": "code",
   "execution_count": 27,
   "id": "271f57a3",
   "metadata": {},
   "outputs": [
    {
     "name": "stdout",
     "output_type": "stream",
     "text": [
      "Accepted for passport\n",
      "Varified for passport\n"
     ]
    }
   ],
   "source": [
    "age = 18\n",
    "nid = False\n",
    "bc = True\n",
    "if age >= 18:\n",
    "    print(\"Accepted for passport\")\n",
    "    if nid == True or bc == True:\n",
    "        print(\"Varified for passport\")\n",
    "    else:\n",
    "        print(\"Not varified\")\n",
    "else:\n",
    "    print(\"Under 18\")"
   ]
  },
  {
   "cell_type": "code",
   "execution_count": 28,
   "id": "2ebc67d3",
   "metadata": {},
   "outputs": [
    {
     "name": "stdout",
     "output_type": "stream",
     "text": [
      "Accepted for passport\n",
      "Not varified\n"
     ]
    }
   ],
   "source": [
    "age = 18\n",
    "nid = False\n",
    "bc = False\n",
    "if age >= 18:\n",
    "    print(\"Accepted for passport\")\n",
    "    if nid == True or bc == True:\n",
    "        print(\"Varified for passport\")\n",
    "    else:\n",
    "        print(\"Not varified\")\n",
    "else:\n",
    "    print(\"Under 18\")"
   ]
  },
  {
   "cell_type": "code",
   "execution_count": 29,
   "id": "61809918",
   "metadata": {},
   "outputs": [
    {
     "name": "stdout",
     "output_type": "stream",
     "text": [
      "Accepted for passport\n",
      "Varified for passport\n"
     ]
    }
   ],
   "source": [
    "age = 18\n",
    "nid = True\n",
    "bc = True\n",
    "if age >= 18:\n",
    "    print(\"Accepted for passport\")\n",
    "    if nid == True or bc == True:\n",
    "        print(\"Varified for passport\")\n",
    "    else:\n",
    "        print(\"Not varified\")\n",
    "else:\n",
    "    print(\"Under 18\")"
   ]
  },
  {
   "cell_type": "code",
   "execution_count": 30,
   "id": "3dceaa8c",
   "metadata": {},
   "outputs": [
    {
     "name": "stdout",
     "output_type": "stream",
     "text": [
      "Accepted for passport\n",
      "Not varified, do you have any certificate ex: SSC, HSC\n",
      "We are really sorry\n"
     ]
    }
   ],
   "source": [
    "age = 18\n",
    "nid = False\n",
    "bc = False\n",
    "cer = False\n",
    "if age >= 18:\n",
    "    print(\"Accepted for passport\")\n",
    "    if nid == True or bc == True:\n",
    "        print(\"Varified for passport\")\n",
    "    else:\n",
    "        print(\"Not varified, do you have any certificate ex: SSC, HSC\")\n",
    "        if cer == True:\n",
    "            print(\"Fine, it will be ok\")\n",
    "        else:\n",
    "            print(\"We are really sorry\")\n",
    "else:\n",
    "    print(\"Under 18\")"
   ]
  },
  {
   "cell_type": "code",
   "execution_count": 31,
   "id": "564e9e45",
   "metadata": {},
   "outputs": [
    {
     "name": "stdout",
     "output_type": "stream",
     "text": [
      "Accepted for passport\n",
      "Not varified, do you have any certificate ex: SSC, HSC\n",
      "Fine, it will be ok\n"
     ]
    }
   ],
   "source": [
    "age = 18\n",
    "nid = False\n",
    "bc = False\n",
    "cer = True\n",
    "if age >= 18:\n",
    "    print(\"Accepted for passport\")\n",
    "    if nid == True or bc == True:\n",
    "        print(\"Varified for passport\")\n",
    "    else:\n",
    "        print(\"Not varified, do you have any certificate ex: SSC, HSC\")\n",
    "        if cer == True:\n",
    "            print(\"Fine, it will be ok\")\n",
    "        else:\n",
    "            print(\"We are really sorry\")\n",
    "else:\n",
    "    print(\"Under 18\")"
   ]
  },
  {
   "cell_type": "code",
   "execution_count": 32,
   "id": "69e0b091",
   "metadata": {},
   "outputs": [
    {
     "name": "stdout",
     "output_type": "stream",
     "text": [
      "Under 18, do you have birth certificate?\n",
      "Please, bring the BC\n"
     ]
    }
   ],
   "source": [
    "age = 17\n",
    "nid = False\n",
    "bc = False\n",
    "cer = False\n",
    "if age >= 18:\n",
    "    print(\"Accepted for passport\")\n",
    "    if nid == True or bc == True:\n",
    "        print(\"Varified for passport\")\n",
    "    else:\n",
    "        print(\"Not varified, do you have any certificate ex: SSC, HSC\")\n",
    "        if cer == True:\n",
    "            print(\"Fine, it will be ok\")\n",
    "        else:\n",
    "            print(\"We are really sorry\")\n",
    "else:\n",
    "    print(\"Under 18, do you have birth certificate?\")\n",
    "    if bc == True:\n",
    "        print(\"BC is fine\")\n",
    "    else:\n",
    "        print('Please, bring the BC')"
   ]
  },
  {
   "cell_type": "code",
   "execution_count": 33,
   "id": "008ac27b",
   "metadata": {},
   "outputs": [
    {
     "name": "stdout",
     "output_type": "stream",
     "text": [
      "Under 18, do you have birth certificate?\n",
      "BC is fine\n"
     ]
    }
   ],
   "source": [
    "age = 17\n",
    "nid = False\n",
    "bc = True\n",
    "cer = False\n",
    "if age >= 18:\n",
    "    print(\"Accepted for passport\")\n",
    "    if nid == True or bc == True:\n",
    "        print(\"Varified for passport\")\n",
    "    else:\n",
    "        print(\"Not varified, do you have any certificate ex: SSC, HSC\")\n",
    "        if cer == True:\n",
    "            print(\"Fine, it will be ok\")\n",
    "        else:\n",
    "            print(\"We are really sorry\")\n",
    "else:\n",
    "    print(\"Under 18, do you have birth certificate?\")\n",
    "    if bc == True:\n",
    "        print(\"BC is fine\")\n",
    "    else:\n",
    "        print(\"Please, bring the BC\")"
   ]
  },
  {
   "cell_type": "markdown",
   "id": "3c633e43",
   "metadata": {},
   "source": [
    "# Loop"
   ]
  },
  {
   "cell_type": "code",
   "execution_count": 34,
   "id": "3efbd45f",
   "metadata": {},
   "outputs": [
    {
     "name": "stdout",
     "output_type": "stream",
     "text": [
      "0\n",
      "1\n",
      "2\n",
      "3\n",
      "4\n",
      "5\n",
      "6\n",
      "7\n",
      "8\n",
      "9\n"
     ]
    }
   ],
   "source": [
    "# for, while\n",
    "for i in range(10):\n",
    "    print(i)"
   ]
  },
  {
   "cell_type": "code",
   "execution_count": 35,
   "id": "b7ad839c",
   "metadata": {},
   "outputs": [
    {
     "name": "stdout",
     "output_type": "stream",
     "text": [
      "0\n",
      "1\n",
      "2\n",
      "3\n",
      "4\n",
      "5\n",
      "6\n",
      "7\n",
      "8\n",
      "9\n"
     ]
    }
   ],
   "source": [
    "i = 0\n",
    "n = 10\n",
    "while i < n:\n",
    "    print(i)\n",
    "    i = i+1"
   ]
  },
  {
   "cell_type": "code",
   "execution_count": 36,
   "id": "763c2858",
   "metadata": {},
   "outputs": [
    {
     "name": "stdout",
     "output_type": "stream",
     "text": [
      "0\n",
      "1\n",
      "2\n",
      "3\n",
      "4\n",
      "5\n",
      "6\n",
      "7\n",
      "8\n",
      "9\n"
     ]
    }
   ],
   "source": [
    "i = 0\n",
    "j = 0\n",
    "n = 10\n",
    "while i < n:\n",
    "    print(i)\n",
    "    i = i+1"
   ]
  },
  {
   "cell_type": "code",
   "execution_count": 37,
   "id": "253dc9b0",
   "metadata": {},
   "outputs": [
    {
     "name": "stdout",
     "output_type": "stream",
     "text": [
      "0\n",
      "0\n",
      "0\n",
      "0\n",
      "0\n",
      "0\n",
      "0\n",
      "0\n",
      "0\n",
      "0\n"
     ]
    }
   ],
   "source": [
    "i = 0\n",
    "j = 0\n",
    "n = 10\n",
    "while i < n:\n",
    "    print(j)\n",
    "    i = i+1"
   ]
  },
  {
   "cell_type": "code",
   "execution_count": 38,
   "id": "92f45ebe",
   "metadata": {},
   "outputs": [
    {
     "name": "stdout",
     "output_type": "stream",
     "text": [
      "0\n",
      "10\n",
      "20\n",
      "30\n",
      "40\n",
      "50\n",
      "60\n",
      "70\n",
      "80\n",
      "90\n"
     ]
    }
   ],
   "source": [
    "i = 0\n",
    "j = 0\n",
    "n = 10\n",
    "while i < n:\n",
    "    print(j)\n",
    "    i = i+1\n",
    "    j = j+10"
   ]
  },
  {
   "cell_type": "code",
   "execution_count": 39,
   "id": "70556d8d",
   "metadata": {},
   "outputs": [
    {
     "name": "stdout",
     "output_type": "stream",
     "text": [
      "100\n"
     ]
    },
    {
     "data": {
      "text/plain": [
       "'100'"
      ]
     },
     "execution_count": 39,
     "metadata": {},
     "output_type": "execute_result"
    }
   ],
   "source": [
    "guess_the_number = input()\n",
    "guess_the_number"
   ]
  },
  {
   "cell_type": "code",
   "execution_count": 40,
   "id": "87f74ca2",
   "metadata": {},
   "outputs": [
    {
     "data": {
      "text/plain": [
       "5"
      ]
     },
     "execution_count": 40,
     "metadata": {},
     "output_type": "execute_result"
    }
   ],
   "source": [
    "import numpy as np\n",
    "rand_num = np.random.randint(10)\n",
    "rand_num"
   ]
  },
  {
   "cell_type": "code",
   "execution_count": null,
   "id": "21d2dbdc",
   "metadata": {},
   "outputs": [],
   "source": [
    "while True:\n",
    "    guess_the_number = input()\n",
    "    if rand_num == guess_the_number:\n",
    "        print(\"you win\")\n",
    "    else:\n",
    "        guess_the_number = input()"
   ]
  },
  {
   "cell_type": "code",
   "execution_count": null,
   "id": "8c390f39",
   "metadata": {},
   "outputs": [],
   "source": []
  }
 ],
 "metadata": {
  "kernelspec": {
   "display_name": "Python 3 (ipykernel)",
   "language": "python",
   "name": "python3"
  },
  "language_info": {
   "codemirror_mode": {
    "name": "ipython",
    "version": 3
   },
   "file_extension": ".py",
   "mimetype": "text/x-python",
   "name": "python",
   "nbconvert_exporter": "python",
   "pygments_lexer": "ipython3",
   "version": "3.9.7"
  }
 },
 "nbformat": 4,
 "nbformat_minor": 5
}
